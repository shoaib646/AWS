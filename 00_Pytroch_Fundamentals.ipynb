{
  "nbformat": 4,
  "nbformat_minor": 0,
  "metadata": {
    "colab": {
      "provenance": [],
      "gpuType": "T4",
      "authorship_tag": "ABX9TyPbHvsyiqna3fhVcH3f8AWv",
      "include_colab_link": true
    },
    "kernelspec": {
      "name": "python3",
      "display_name": "Python 3"
    },
    "language_info": {
      "name": "python"
    }
  },
  "cells": [
    {
      "cell_type": "markdown",
      "metadata": {
        "id": "view-in-github",
        "colab_type": "text"
      },
      "source": [
        "<a href=\"https://colab.research.google.com/github/shoaib646/AWS/blob/master/00_Pytroch_Fundamentals.ipynb\" target=\"_parent\"><img src=\"https://colab.research.google.com/assets/colab-badge.svg\" alt=\"Open In Colab\"/></a>"
      ]
    },
    {
      "cell_type": "code",
      "execution_count": 1,
      "metadata": {
        "colab": {
          "base_uri": "https://localhost:8080/"
        },
        "id": "XJvAxuSBc2dh",
        "outputId": "3e647ccb-0f47-4a62-c124-c6d6d8be9390"
      },
      "outputs": [
        {
          "output_type": "stream",
          "name": "stdout",
          "text": [
            "2.0.1+cu118\n"
          ]
        }
      ],
      "source": [
        "import torch\n",
        "import pandas as pd\n",
        "import numpy as np\n",
        "import matplotlib.pyplot as plt\n",
        "print(torch.__version__)"
      ]
    },
    {
      "cell_type": "code",
      "source": [
        "#scalar\n",
        "scalar = torch.tensor(7)\n",
        "print('Scalar: ', scalar)\n",
        "print('scalar.ndim: ',scalar.ndim)\n",
        "print(type(scalar.item()), scalar.item())"
      ],
      "metadata": {
        "colab": {
          "base_uri": "https://localhost:8080/"
        },
        "id": "QP3w407odKNG",
        "outputId": "a50d67ce-5e10-481d-a33f-902d1e3d77dc"
      },
      "execution_count": 2,
      "outputs": [
        {
          "output_type": "stream",
          "name": "stdout",
          "text": [
            "Scalar:  tensor(7)\n",
            "scalar.ndim:  0\n",
            "<class 'int'> 7\n"
          ]
        }
      ]
    },
    {
      "cell_type": "code",
      "source": [
        "#vector\n",
        "vector = torch.tensor([7,7])\n",
        "print('Vector:', vector)\n",
        "print('vector.shape: ',vector.shape)\n",
        "print('vector.ndim: ',vector.ndim)"
      ],
      "metadata": {
        "colab": {
          "base_uri": "https://localhost:8080/"
        },
        "id": "bTnXImc7gO9_",
        "outputId": "ec2a389b-4ea6-40b9-a0df-11f0b17f5248"
      },
      "execution_count": 3,
      "outputs": [
        {
          "output_type": "stream",
          "name": "stdout",
          "text": [
            "Vector: tensor([7, 7])\n",
            "vector.shape:  torch.Size([2])\n",
            "vector.ndim:  1\n"
          ]
        }
      ]
    },
    {
      "cell_type": "code",
      "source": [
        "#Matrix\n",
        "\n",
        "matrix = torch.tensor([[2,3], [1,4]])\n",
        "print('matrix: ',matrix)\n",
        "print('matrix.shape: ',matrix.shape)\n",
        "print('matrix.ndim: ',matrix.ndim)"
      ],
      "metadata": {
        "colab": {
          "base_uri": "https://localhost:8080/"
        },
        "id": "OgCAtt19hQ5Y",
        "outputId": "6d4ded6c-df4a-4e2f-cadf-c23a3d916c48"
      },
      "execution_count": 4,
      "outputs": [
        {
          "output_type": "stream",
          "name": "stdout",
          "text": [
            "matrix:  tensor([[2, 3],\n",
            "        [1, 4]])\n",
            "matrix.shape:  torch.Size([2, 2])\n",
            "matrix.ndim:  2\n"
          ]
        }
      ]
    },
    {
      "cell_type": "code",
      "source": [
        "#TENSOR\n",
        "\n",
        "TENSOR = torch.tensor([[1,2,3], [3,4,5], [6,7,8]])"
      ],
      "metadata": {
        "id": "RLxPVIh_h8CQ"
      },
      "execution_count": 5,
      "outputs": []
    },
    {
      "cell_type": "code",
      "source": [
        "TENSOR.ndim"
      ],
      "metadata": {
        "colab": {
          "base_uri": "https://localhost:8080/"
        },
        "id": "T1HJB5Oij_M9",
        "outputId": "8352e039-d954-4774-dba8-ea9784f0f325"
      },
      "execution_count": 6,
      "outputs": [
        {
          "output_type": "execute_result",
          "data": {
            "text/plain": [
              "2"
            ]
          },
          "metadata": {},
          "execution_count": 6
        }
      ]
    },
    {
      "cell_type": "code",
      "source": [
        "TENSOR.shape"
      ],
      "metadata": {
        "colab": {
          "base_uri": "https://localhost:8080/"
        },
        "id": "fNh_PmxakA_d",
        "outputId": "7b3c845d-4bd4-4120-b6cc-a0574f4b650f"
      },
      "execution_count": 7,
      "outputs": [
        {
          "output_type": "execute_result",
          "data": {
            "text/plain": [
              "torch.Size([3, 3])"
            ]
          },
          "metadata": {},
          "execution_count": 7
        }
      ]
    },
    {
      "cell_type": "code",
      "source": [
        "torch.randint(9, (3,3))"
      ],
      "metadata": {
        "colab": {
          "base_uri": "https://localhost:8080/"
        },
        "id": "7k27Nh7skGvL",
        "outputId": "5d8a8312-4a50-4cac-ac24-53cef86e3bcc"
      },
      "execution_count": 8,
      "outputs": [
        {
          "output_type": "execute_result",
          "data": {
            "text/plain": [
              "tensor([[4, 8, 2],\n",
              "        [4, 0, 1],\n",
              "        [4, 0, 7]])"
            ]
          },
          "metadata": {},
          "execution_count": 8
        }
      ]
    },
    {
      "cell_type": "code",
      "source": [
        "torch.linspace(0,27, 5)"
      ],
      "metadata": {
        "colab": {
          "base_uri": "https://localhost:8080/"
        },
        "id": "S0_5Li3ck7ES",
        "outputId": "3e039755-1522-4c03-b8d4-f966d09d23b8"
      },
      "execution_count": 9,
      "outputs": [
        {
          "output_type": "execute_result",
          "data": {
            "text/plain": [
              "tensor([ 0.0000,  6.7500, 13.5000, 20.2500, 27.0000])"
            ]
          },
          "metadata": {},
          "execution_count": 9
        }
      ]
    },
    {
      "cell_type": "code",
      "source": [
        "torch.manual_seed(20)\n",
        "torch.rand(1,2, 2)"
      ],
      "metadata": {
        "colab": {
          "base_uri": "https://localhost:8080/"
        },
        "id": "9j0vEzzhlWOp",
        "outputId": "19e1b56f-e106-4145-ec9b-74311496a398"
      },
      "execution_count": 10,
      "outputs": [
        {
          "output_type": "execute_result",
          "data": {
            "text/plain": [
              "tensor([[[0.5615, 0.1774],\n",
              "         [0.8147, 0.3295]]])"
            ]
          },
          "metadata": {},
          "execution_count": 10
        }
      ]
    },
    {
      "cell_type": "code",
      "source": [
        "torch.Tensor([1,2])"
      ],
      "metadata": {
        "colab": {
          "base_uri": "https://localhost:8080/"
        },
        "id": "epV0Qma41Upr",
        "outputId": "e8f12469-ddc4-441c-8bb0-6ae887b147b9"
      },
      "execution_count": 11,
      "outputs": [
        {
          "output_type": "execute_result",
          "data": {
            "text/plain": [
              "tensor([1., 2.])"
            ]
          },
          "metadata": {},
          "execution_count": 11
        }
      ]
    },
    {
      "cell_type": "code",
      "source": [
        "torch.zeros((2,10))"
      ],
      "metadata": {
        "colab": {
          "base_uri": "https://localhost:8080/"
        },
        "id": "axbxiZDt2oaB",
        "outputId": "253509bf-28aa-4420-c4e1-6e0c8bb82abf"
      },
      "execution_count": 12,
      "outputs": [
        {
          "output_type": "execute_result",
          "data": {
            "text/plain": [
              "tensor([[0., 0., 0., 0., 0., 0., 0., 0., 0., 0.],\n",
              "        [0., 0., 0., 0., 0., 0., 0., 0., 0., 0.]])"
            ]
          },
          "metadata": {},
          "execution_count": 12
        }
      ]
    },
    {
      "cell_type": "code",
      "source": [
        "torch.ones((2,10))"
      ],
      "metadata": {
        "colab": {
          "base_uri": "https://localhost:8080/"
        },
        "id": "Wi76actx21Y-",
        "outputId": "cb6395fa-0789-43b1-87cc-a7570f399a5a"
      },
      "execution_count": 13,
      "outputs": [
        {
          "output_type": "execute_result",
          "data": {
            "text/plain": [
              "tensor([[1., 1., 1., 1., 1., 1., 1., 1., 1., 1.],\n",
              "        [1., 1., 1., 1., 1., 1., 1., 1., 1., 1.]])"
            ]
          },
          "metadata": {},
          "execution_count": 13
        }
      ]
    },
    {
      "cell_type": "code",
      "source": [
        "torch.arange(0, 10,2) * 10"
      ],
      "metadata": {
        "colab": {
          "base_uri": "https://localhost:8080/"
        },
        "id": "xMCPC4EJ25Gl",
        "outputId": "fa3a7aee-3192-45b3-9cd4-ba2d2f8d4dd8"
      },
      "execution_count": 14,
      "outputs": [
        {
          "output_type": "execute_result",
          "data": {
            "text/plain": [
              "tensor([ 0, 20, 40, 60, 80])"
            ]
          },
          "metadata": {},
          "execution_count": 14
        }
      ]
    },
    {
      "cell_type": "code",
      "source": [
        "\n",
        "a = torch.tensor([[1, 2,3], [4, 5,6]])\n",
        "b = torch.tensor([[7,8], [9,10],[11,12]])"
      ],
      "metadata": {
        "id": "Dxblydl336y2"
      },
      "execution_count": 15,
      "outputs": []
    },
    {
      "cell_type": "code",
      "source": [
        "torch.mm(a,b)"
      ],
      "metadata": {
        "colab": {
          "base_uri": "https://localhost:8080/"
        },
        "id": "buoFTB3mLX_m",
        "outputId": "8d6e680c-e649-4d81-97ae-37baa747f013"
      },
      "execution_count": 16,
      "outputs": [
        {
          "output_type": "execute_result",
          "data": {
            "text/plain": [
              "tensor([[ 58,  64],\n",
              "        [139, 154]])"
            ]
          },
          "metadata": {},
          "execution_count": 16
        }
      ]
    },
    {
      "cell_type": "code",
      "source": [
        "x = torch.arange(1,10).reshape(1,3,3)\n",
        "x, x.shape"
      ],
      "metadata": {
        "id": "__er7fbiLkTl",
        "colab": {
          "base_uri": "https://localhost:8080/"
        },
        "outputId": "9dc538f6-88f6-454a-cc9e-b39d3116a3b1"
      },
      "execution_count": 17,
      "outputs": [
        {
          "output_type": "execute_result",
          "data": {
            "text/plain": [
              "(tensor([[[1, 2, 3],\n",
              "          [4, 5, 6],\n",
              "          [7, 8, 9]]]),\n",
              " torch.Size([1, 3, 3]))"
            ]
          },
          "metadata": {},
          "execution_count": 17
        }
      ]
    },
    {
      "cell_type": "code",
      "source": [
        "x[0]"
      ],
      "metadata": {
        "colab": {
          "base_uri": "https://localhost:8080/"
        },
        "id": "CQjgwhwDZ0C6",
        "outputId": "5971ae86-81e2-41d9-df5e-459dc68c2b8d"
      },
      "execution_count": 18,
      "outputs": [
        {
          "output_type": "execute_result",
          "data": {
            "text/plain": [
              "tensor([[1, 2, 3],\n",
              "        [4, 5, 6],\n",
              "        [7, 8, 9]])"
            ]
          },
          "metadata": {},
          "execution_count": 18
        }
      ]
    },
    {
      "cell_type": "code",
      "source": [
        "x[0][:,1]"
      ],
      "metadata": {
        "colab": {
          "base_uri": "https://localhost:8080/"
        },
        "id": "P_L_eB1kaPPd",
        "outputId": "61cf77bb-d149-4cab-bd78-c2804e7c2c53"
      },
      "execution_count": 19,
      "outputs": [
        {
          "output_type": "execute_result",
          "data": {
            "text/plain": [
              "tensor([2, 5, 8])"
            ]
          },
          "metadata": {},
          "execution_count": 19
        }
      ]
    },
    {
      "cell_type": "code",
      "source": [
        "x[0][:2,0]"
      ],
      "metadata": {
        "colab": {
          "base_uri": "https://localhost:8080/"
        },
        "id": "vk01bEZAaTl_",
        "outputId": "66e3435c-95e6-4182-a91b-f7b2c17459df"
      },
      "execution_count": 20,
      "outputs": [
        {
          "output_type": "execute_result",
          "data": {
            "text/plain": [
              "tensor([1, 4])"
            ]
          },
          "metadata": {},
          "execution_count": 20
        }
      ]
    },
    {
      "cell_type": "code",
      "source": [
        "%%time\n",
        "x[0][0]"
      ],
      "metadata": {
        "colab": {
          "base_uri": "https://localhost:8080/"
        },
        "id": "yxQSuOofb2vJ",
        "outputId": "c9e4202b-2890-4066-e5d0-8c2d02b3e5a4"
      },
      "execution_count": 21,
      "outputs": [
        {
          "output_type": "stream",
          "name": "stdout",
          "text": [
            "CPU times: user 68 µs, sys: 0 ns, total: 68 µs\n",
            "Wall time: 72.7 µs\n"
          ]
        },
        {
          "output_type": "execute_result",
          "data": {
            "text/plain": [
              "tensor([1, 2, 3])"
            ]
          },
          "metadata": {},
          "execution_count": 21
        }
      ]
    },
    {
      "cell_type": "code",
      "source": [
        "%%time\n",
        "x[0,0,:]"
      ],
      "metadata": {
        "colab": {
          "base_uri": "https://localhost:8080/"
        },
        "id": "Ok2iNUGdcj0F",
        "outputId": "2615f9cf-2804-4b73-d248-e03c8fd3cbee"
      },
      "execution_count": 22,
      "outputs": [
        {
          "output_type": "stream",
          "name": "stdout",
          "text": [
            "CPU times: user 103 µs, sys: 17 µs, total: 120 µs\n",
            "Wall time: 251 µs\n"
          ]
        },
        {
          "output_type": "execute_result",
          "data": {
            "text/plain": [
              "tensor([1, 2, 3])"
            ]
          },
          "metadata": {},
          "execution_count": 22
        }
      ]
    },
    {
      "cell_type": "code",
      "source": [
        "%%time\n",
        "x[:][0,2][2]"
      ],
      "metadata": {
        "colab": {
          "base_uri": "https://localhost:8080/"
        },
        "id": "O7qNTmLUcsFc",
        "outputId": "3a40110f-03d4-4c5a-d2b3-247f0dd97508"
      },
      "execution_count": 23,
      "outputs": [
        {
          "output_type": "stream",
          "name": "stdout",
          "text": [
            "CPU times: user 91 µs, sys: 15 µs, total: 106 µs\n",
            "Wall time: 109 µs\n"
          ]
        },
        {
          "output_type": "execute_result",
          "data": {
            "text/plain": [
              "tensor(9)"
            ]
          },
          "metadata": {},
          "execution_count": 23
        }
      ]
    },
    {
      "cell_type": "code",
      "source": [
        "%%time\n",
        "x[0][2][2]"
      ],
      "metadata": {
        "colab": {
          "base_uri": "https://localhost:8080/"
        },
        "id": "6uKX1i2Hc3lb",
        "outputId": "20707554-a03f-456e-964c-abb374da8d40"
      },
      "execution_count": 24,
      "outputs": [
        {
          "output_type": "stream",
          "name": "stdout",
          "text": [
            "CPU times: user 70 µs, sys: 12 µs, total: 82 µs\n",
            "Wall time: 85.6 µs\n"
          ]
        },
        {
          "output_type": "execute_result",
          "data": {
            "text/plain": [
              "tensor(9)"
            ]
          },
          "metadata": {},
          "execution_count": 24
        }
      ]
    },
    {
      "cell_type": "code",
      "source": [
        "import numpy as np"
      ],
      "metadata": {
        "id": "cwSZZPE_duAD"
      },
      "execution_count": 25,
      "outputs": []
    },
    {
      "cell_type": "code",
      "source": [
        "\n",
        "%%time\n",
        "np.arange(1,10).reshape(1,3,3)[0][2][2]"
      ],
      "metadata": {
        "colab": {
          "base_uri": "https://localhost:8080/"
        },
        "id": "iYyYvnXbdLAR",
        "outputId": "ab046c8b-bc49-46a6-99d8-1ce90a6fff2d"
      },
      "execution_count": 26,
      "outputs": [
        {
          "output_type": "stream",
          "name": "stdout",
          "text": [
            "CPU times: user 41 µs, sys: 7 µs, total: 48 µs\n",
            "Wall time: 52.2 µs\n"
          ]
        },
        {
          "output_type": "execute_result",
          "data": {
            "text/plain": [
              "9"
            ]
          },
          "metadata": {},
          "execution_count": 26
        }
      ]
    },
    {
      "cell_type": "code",
      "source": [
        "## Large Language Model (LLMs) Transformers, Bert vagerax`x`x`"
      ],
      "metadata": {
        "id": "7WkVUemPejcg"
      },
      "execution_count": 27,
      "outputs": []
    },
    {
      "cell_type": "code",
      "source": [
        "# created tensor\n",
        "tensor = torch.arange(1,10).reshape(3,3)\n",
        "tensor"
      ],
      "metadata": {
        "id": "1qYw_l1EjtmY",
        "colab": {
          "base_uri": "https://localhost:8080/"
        },
        "outputId": "3ee70c1a-303d-42f7-a4fc-1e8fdf2718eb"
      },
      "execution_count": 28,
      "outputs": [
        {
          "output_type": "execute_result",
          "data": {
            "text/plain": [
              "tensor([[1, 2, 3],\n",
              "        [4, 5, 6],\n",
              "        [7, 8, 9]])"
            ]
          },
          "metadata": {},
          "execution_count": 28
        }
      ]
    },
    {
      "cell_type": "code",
      "source": [
        "# converted to numpy then again converted to tensor\n",
        "torch.from_numpy(torch.Tensor.numpy(tensor))"
      ],
      "metadata": {
        "colab": {
          "base_uri": "https://localhost:8080/"
        },
        "id": "1W3CsVC9ORLz",
        "outputId": "efc3941b-69af-4741-813f-1150c1f15d50"
      },
      "execution_count": 32,
      "outputs": [
        {
          "output_type": "execute_result",
          "data": {
            "text/plain": [
              "tensor([[1, 2, 3],\n",
              "        [4, 5, 6],\n",
              "        [7, 8, 9]])"
            ]
          },
          "metadata": {},
          "execution_count": 32
        }
      ]
    },
    {
      "cell_type": "code",
      "source": [
        "#reproducbility\n",
        "torch.manuasl_seed(101)"
      ],
      "metadata": {
        "id": "oF0QhCNoOX7e"
      },
      "execution_count": 33,
      "outputs": []
    },
    {
      "cell_type": "code",
      "source": [],
      "metadata": {
        "id": "RkGGp2VuQFzL"
      },
      "execution_count": null,
      "outputs": []
    }
  ]
}